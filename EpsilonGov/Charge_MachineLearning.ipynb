{
 "cells": [
  {
   "cell_type": "code",
   "execution_count": 56,
   "metadata": {
    "collapsed": false
   },
   "outputs": [
    {
     "name": "stdout",
     "output_type": "stream",
     "text": [
      "Populating the interactive namespace from numpy and matplotlib\n"
     ]
    }
   ],
   "source": [
    "import pandas as pd\n",
    "import numpy as np\n",
    "import csv\n",
    "from sklearn.ensemble import RandomForestClassifier\n",
    "import seaborn as sns\n",
    "import pylab as pl\n",
    "\n",
    "% pylab inline"
   ]
  },
  {
   "cell_type": "code",
   "execution_count": 2,
   "metadata": {
    "collapsed": false
   },
   "outputs": [
    {
     "name": "stderr",
     "output_type": "stream",
     "text": [
      "C:\\Users\\shibbie\\Anaconda_2\\lib\\site-packages\\IPython\\core\\interactiveshell.py:2717: DtypeWarning: Columns (26,41,48,60,64,71,74) have mixed types. Specify dtype option on import or set low_memory=False.\n",
      "  interactivity=interactivity, compiler=compiler, result=result)\n"
     ]
    }
   ],
   "source": [
    "data = pd.read_csv('hackathon-CUSP-WI_clean.csv', index_col = 0)"
   ]
  },
  {
   "cell_type": "code",
   "execution_count": 1138,
   "metadata": {
    "collapsed": false
   },
   "outputs": [
    {
     "data": {
      "text/plain": [
       "Index([u'DA Case Status', u'Ref Date', u'Referral Type', u'Ref Agency',\n",
       "       u'Primary Officer', u'Prosecutor', u'Reviewing Prosecutor', u'Unit',\n",
       "       u'VW Assigned', u'Def Pros Counselor', u'Defendant Name',\n",
       "       u'Defendant Address Line1', u'Defendant Address Line2',\n",
       "       u'Defendant City', u'Defendant State', u'Defendant Zip',\n",
       "       u'Defendant Race', u'Defendant Gender', u'Defendant DOB',\n",
       "       u'Defendant's Age at Incident', u'Defendant’s Arrest Status',\n",
       "       u'Defendant Case Status', u'CC# Year', u'Incident Date',\n",
       "       u'Municipality', u'Incident Zip', u'Type', u'Summary Charge Statute #',\n",
       "       u'Summary Charge Desc', u'Severity', u'Class', u'Charge Status',\n",
       "       u'Charge Dispo', u'Dispo Date', u'Modifier', u'Enhancer1', u'Enhancer2',\n",
       "       u'Enhancer3', u'Child Abuse', u'Child Neglect', u'Child Pornography',\n",
       "       u'Child Sexual Assault', u'Child Support', u'Civil Forfeiture',\n",
       "       u'Civil Traffic', u'Criminal', u'Criminal Traffic', u'Diversion',\n",
       "       u'Domestic', u'Drug Court', u'Drug Related', u'Extradition',\n",
       "       u'Fast Track', u'Fatal', u'Felony', u'Forfeiture',\n",
       "       u'Governor’s Warrant', u'Homicide', u'Incompetent', u'John Doe',\n",
       "       u'Juvenile', u'Misdemeanor', u'Non-violent', u'Open Meeting',\n",
       "       u'Property Forfeiture', u'Request for Review', u'Safe Zone',\n",
       "       u'Scanned File', u'Sensitive', u'Sex Offender Registry Violation',\n",
       "       u'Sex Predator', u'Sexual Assault', u'Special Pros/In',\n",
       "       u'Special Pros/Out', u'Special Prosecution', u'Success', u'Wage Claims',\n",
       "       u'Worthless Check'],\n",
       "      dtype='object')"
      ]
     },
     "execution_count": 1138,
     "metadata": {},
     "output_type": "execute_result"
    }
   ],
   "source": [
    "data.columns"
   ]
  },
  {
   "cell_type": "markdown",
   "metadata": {},
   "source": [
    "# drop items without known charge disposition"
   ]
  },
  {
   "cell_type": "code",
   "execution_count": 5,
   "metadata": {
    "collapsed": false
   },
   "outputs": [],
   "source": [
    "known_dispo = data.dropna(axis = 0, subset = ['Charge Dispo'])"
   ]
  },
  {
   "cell_type": "code",
   "execution_count": 6,
   "metadata": {
    "collapsed": false
   },
   "outputs": [],
   "source": [
    "# remove fields related to forfeiture and extradition per DA's advice\n",
    "known_dispo = known_dispo[known_dispo['Civil Forfeiture'].isnull()]\n",
    "known_dispo = known_dispo[known_dispo['Property Forfeiture'].isnull()]\n",
    "known_dispo = known_dispo[known_dispo.Extradition.isnull()]"
   ]
  },
  {
   "cell_type": "code",
   "execution_count": 8,
   "metadata": {
    "collapsed": false
   },
   "outputs": [],
   "source": [
    "# filter to just felonies (could be run separately for Misdemeanors & University)\n",
    "known_dispo = known_dispo[known_dispo.Severity != 'O  ']"
   ]
  },
  {
   "cell_type": "code",
   "execution_count": 9,
   "metadata": {
    "collapsed": false
   },
   "outputs": [],
   "source": [
    "known_dispo = known_dispo[known_dispo.Severity != '   ']"
   ]
  },
  {
   "cell_type": "code",
   "execution_count": 10,
   "metadata": {
    "collapsed": true
   },
   "outputs": [],
   "source": [
    "known_dispo = known_dispo[known_dispo.Severity == \"M  \"]"
   ]
  },
  {
   "cell_type": "code",
   "execution_count": 60,
   "metadata": {
    "collapsed": false
   },
   "outputs": [],
   "source": [
    "known_dispo = known_dispo[['Defendant Race', 'Defendant Gender', 'Class', 'Charge Dispo']]\n",
    "known_dispo.dropna(inplace = True)"
   ]
  },
  {
   "cell_type": "code",
   "execution_count": 61,
   "metadata": {
    "collapsed": false
   },
   "outputs": [],
   "source": [
    "X = pd.get_dummies(known_dispo.iloc[:,:-1])"
   ]
  },
  {
   "cell_type": "code",
   "execution_count": 62,
   "metadata": {
    "collapsed": false
   },
   "outputs": [],
   "source": [
    "Y = known_dispo['Charge Dispo']"
   ]
  },
  {
   "cell_type": "markdown",
   "metadata": {},
   "source": [
    "# we would expect that similar crime levels would not show a racial or class discrepancies in resultant charge dispositions. Therefore, I first classified the data using classifier based on Class, Race and Gender.  "
   ]
  },
  {
   "cell_type": "code",
   "execution_count": 63,
   "metadata": {
    "collapsed": false
   },
   "outputs": [
    {
     "data": {
      "text/plain": [
       "RandomForestClassifier(bootstrap=True, class_weight=None, criterion='gini',\n",
       "            max_depth=5, max_features='auto', max_leaf_nodes=None,\n",
       "            min_impurity_split=1e-07, min_samples_leaf=1,\n",
       "            min_samples_split=2, min_weight_fraction_leaf=0.0,\n",
       "            n_estimators=10, n_jobs=1, oob_score=False, random_state=None,\n",
       "            verbose=0, warm_start=False)"
      ]
     },
     "execution_count": 63,
     "metadata": {},
     "output_type": "execute_result"
    }
   ],
   "source": [
    "bnb = RandomForestClassifier(max_depth = 5)\n",
    "bnb.fit(X, Y)"
   ]
  },
  {
   "cell_type": "code",
   "execution_count": 64,
   "metadata": {
    "collapsed": false
   },
   "outputs": [
    {
     "data": {
      "text/plain": [
       "37.24662162162162"
      ]
     },
     "execution_count": 64,
     "metadata": {},
     "output_type": "execute_result"
    }
   ],
   "source": [
    "# Calculate percent incorrect\n",
    "float(sum(Y != bnb.predict(X))) / len(Y) * 100 "
   ]
  },
  {
   "cell_type": "code",
   "execution_count": 65,
   "metadata": {
    "collapsed": false
   },
   "outputs": [
    {
     "data": {
      "text/plain": [
       "Guilty Due to No Contest Plea                           62.697072\n",
       "Dismissed on Prosecutors Motion                         15.230856\n",
       "Charge Dismissed but Read In                             8.474099\n",
       "Guilty Due to Guilty Plea                                7.164977\n",
       "Deferred Prosecution or Sentence                         4.279279\n",
       "Amended Complaint Filed                                  0.661599\n",
       "Dismissed Before Initial Appearance                      0.408221\n",
       "Dismissed on Defendants Motion                           0.309685\n",
       "Found Guilty at Jury Trial                               0.225225\n",
       "Amended By Prosecutor Or Court                           0.197072\n",
       "Found Not Guilty at Jury Trial                           0.182995\n",
       "Dismissed on Courts own Motion                           0.070383\n",
       "Found Not Guilty at Court Trial                          0.028153\n",
       "Discharged After Being Found Incompetent                 0.014077\n",
       "Guilty but Not Guilty Due to Mental Disease/Defect       0.014077\n",
       "Found Guilty at Court Trial                              0.014077\n",
       "Administrative Disposition                               0.014077\n",
       "Dismissed-Charges Consolidated into Different County     0.014077\n",
       "Name: Charge Dispo, dtype: float64"
      ]
     },
     "execution_count": 65,
     "metadata": {},
     "output_type": "execute_result"
    }
   ],
   "source": [
    "# model does not really perform better than sorting everyone into No Contest \n",
    "Y.value_counts() / len(Y) * 100"
   ]
  },
  {
   "cell_type": "code",
   "execution_count": 66,
   "metadata": {
    "collapsed": false
   },
   "outputs": [],
   "source": [
    "known_dispo2 = known_dispo[known_dispo['Charge Dispo'] != 'Guilty Due to No Contest Plea']"
   ]
  },
  {
   "cell_type": "code",
   "execution_count": 80,
   "metadata": {
    "collapsed": false
   },
   "outputs": [
    {
     "data": {
      "text/plain": [
       "RandomForestClassifier(bootstrap=True, class_weight=None, criterion='gini',\n",
       "            max_depth=10, max_features='auto', max_leaf_nodes=None,\n",
       "            min_impurity_split=1e-07, min_samples_leaf=1,\n",
       "            min_samples_split=2, min_weight_fraction_leaf=0.0,\n",
       "            n_estimators=10, n_jobs=1, oob_score=False, random_state=None,\n",
       "            verbose=0, warm_start=False)"
      ]
     },
     "execution_count": 80,
     "metadata": {},
     "output_type": "execute_result"
    }
   ],
   "source": [
    "X = pd.get_dummies(known_dispo2.iloc[:,:-1])\n",
    "Y = known_dispo2['Charge Dispo']\n",
    "bnb = RandomForestClassifier(max_depth = 10)\n",
    "bnb.fit(X, Y)"
   ]
  },
  {
   "cell_type": "code",
   "execution_count": 81,
   "metadata": {
    "collapsed": false
   },
   "outputs": [
    {
     "data": {
      "text/plain": [
       "55.05660377358491"
      ]
     },
     "execution_count": 81,
     "metadata": {},
     "output_type": "execute_result"
    }
   ],
   "source": [
    "# Calculate percent incorrect\n",
    "float(sum(Y != bnb.predict(X))) / len(Y) * 100 "
   ]
  },
  {
   "cell_type": "code",
   "execution_count": 82,
   "metadata": {
    "collapsed": false
   },
   "outputs": [
    {
     "data": {
      "text/plain": [
       "Dismissed on Prosecutors Motion                         40.830189\n",
       "Charge Dismissed but Read In                            22.716981\n",
       "Guilty Due to Guilty Plea                               19.207547\n",
       "Deferred Prosecution or Sentence                        11.471698\n",
       "Amended Complaint Filed                                  1.773585\n",
       "Dismissed Before Initial Appearance                      1.094340\n",
       "Dismissed on Defendants Motion                           0.830189\n",
       "Found Guilty at Jury Trial                               0.603774\n",
       "Amended By Prosecutor Or Court                           0.528302\n",
       "Found Not Guilty at Jury Trial                           0.490566\n",
       "Dismissed on Courts own Motion                           0.188679\n",
       "Found Not Guilty at Court Trial                          0.075472\n",
       "Guilty but Not Guilty Due to Mental Disease/Defect       0.037736\n",
       "Found Guilty at Court Trial                              0.037736\n",
       "Administrative Disposition                               0.037736\n",
       "Dismissed-Charges Consolidated into Different County     0.037736\n",
       "Discharged After Being Found Incompetent                 0.037736\n",
       "Name: Charge Dispo, dtype: float64"
      ]
     },
     "execution_count": 82,
     "metadata": {},
     "output_type": "execute_result"
    }
   ],
   "source": [
    "Y.value_counts() / len(Y) * 100 # only slightly better"
   ]
  },
  {
   "cell_type": "markdown",
   "metadata": {},
   "source": [
    "# With this dataset, a vast number of items were either dismissed by prosecutors or guilty due to no contest plea leading to imbalanced classes. It may be worth rerunning with some of the observations from the dominant classes removed. However, for this dataset there were not enough instances in the lower classes for this to be doable. There are obviously also many other factors related to charge dispostion that are not accounted for in a model based on just gender, race and class of crime. It may also be interesting to further subset the dataset (for instance, just attempt to classify the outcomes of those people who did go to trial) to look for gender or racial imbalances. I intended to attempt to quantify gender/racial differences by creating 'fake' data by changing, for instance, the gender for all the data to male and female and then running the classifier model on both. An example is below:"
   ]
  },
  {
   "cell_type": "code",
   "execution_count": 115,
   "metadata": {
    "collapsed": false
   },
   "outputs": [],
   "source": [
    "test_allmale = X.copy()\n",
    "test_allfemale = X.copy()"
   ]
  },
  {
   "cell_type": "code",
   "execution_count": 120,
   "metadata": {
    "collapsed": false
   },
   "outputs": [],
   "source": [
    "test_allmale['Defendant Gender_F   '] = 0\n",
    "test_allmale['Defendant Gender_M   '] = 1\n",
    "test_allmale['Defendant Gender_F   '] = 1\n",
    "test_allmale['Defendant Gender_M   '] = 0"
   ]
  },
  {
   "cell_type": "code",
   "execution_count": 123,
   "metadata": {
    "collapsed": false
   },
   "outputs": [],
   "source": [
    "predicted_allmale = bnb.predict(test_allmale)\n",
    "predicted_allfemale = bnb.predict(test_allfemale)"
   ]
  },
  {
   "cell_type": "code",
   "execution_count": 126,
   "metadata": {
    "collapsed": false
   },
   "outputs": [
    {
     "data": {
      "text/plain": [
       "Dismissed on Prosecutors Motion     0.892830\n",
       "Guilty Due to Guilty Plea           0.049057\n",
       "Charge Dismissed but Read In        0.042642\n",
       "Deferred Prosecution or Sentence    0.013585\n",
       "Found Not Guilty at Jury Trial      0.001887\n",
       "dtype: float64"
      ]
     },
     "execution_count": 126,
     "metadata": {},
     "output_type": "execute_result"
    }
   ],
   "source": [
    "pd.Series(predicted_allmale).value_counts() / len(predicted_allmale)"
   ]
  },
  {
   "cell_type": "code",
   "execution_count": 127,
   "metadata": {
    "collapsed": false
   },
   "outputs": [
    {
     "data": {
      "text/plain": [
       "Dismissed on Prosecutors Motion     0.715849\n",
       "Charge Dismissed but Read In        0.225283\n",
       "Guilty Due to Guilty Plea           0.049811\n",
       "Deferred Prosecution or Sentence    0.008302\n",
       "Found Not Guilty at Jury Trial      0.000755\n",
       "dtype: float64"
      ]
     },
     "execution_count": 127,
     "metadata": {},
     "output_type": "execute_result"
    }
   ],
   "source": [
    "pd.Series(predicted_allfemale).value_counts() / len(predicted_allfemale)"
   ]
  },
  {
   "cell_type": "markdown",
   "metadata": {},
   "source": [
    "# From these results we can see the approximate effect that male v. female has on the model. That said, the model is not especially accurate so this can be due to covariance between the variables."
   ]
  },
  {
   "cell_type": "code",
   "execution_count": null,
   "metadata": {
    "collapsed": true
   },
   "outputs": [],
   "source": []
  }
 ],
 "metadata": {
  "kernelspec": {
   "display_name": "Python 2",
   "language": "python",
   "name": "python2"
  },
  "language_info": {
   "codemirror_mode": {
    "name": "ipython",
    "version": 2
   },
   "file_extension": ".py",
   "mimetype": "text/x-python",
   "name": "python",
   "nbconvert_exporter": "python",
   "pygments_lexer": "ipython2",
   "version": "2.7.13"
  }
 },
 "nbformat": 4,
 "nbformat_minor": 2
}
